{
  "nbformat": 4,
  "nbformat_minor": 0,
  "metadata": {
    "colab": {
      "provenance": []
    },
    "kernelspec": {
      "name": "python3",
      "display_name": "Python 3"
    },
    "language_info": {
      "name": "python"
    }
  },
  "cells": [
    {
      "cell_type": "markdown",
      "source": [
        "**Задача 1.** Даны две  независимые выборки. \n",
        "\n",
        "Не соблюдается условие нормальности\n",
        "\n",
        "x1  380,420, 290\n",
        "\n",
        "y1 140,360,200,900\n",
        "\n",
        "Сделайте вывод по результатам, полученным с помощью функции"
      ],
      "metadata": {
        "id": "Hv1QRE_eVheB"
      }
    },
    {
      "cell_type": "markdown",
      "source": [
        "Критерий Манна-Уитни:\n"
      ],
      "metadata": {
        "id": "7tprsMr2ZalB"
      }
    },
    {
      "cell_type": "code",
      "source": [
        "import numpy as np\n",
        "from scipy import stats\n",
        "\n",
        "\n",
        "x = np.array([380, 420, 290])\n",
        "y = np.array([140, 360, 200, 900])\n",
        "stats.mannwhitneyu(x, y)"
      ],
      "metadata": {
        "colab": {
          "base_uri": "https://localhost:8080/"
        },
        "id": "hvQnqpi6Vs1S",
        "outputId": "b0248fca-ce5b-4c27-ce74-d3769de03624"
      },
      "execution_count": 9,
      "outputs": [
        {
          "output_type": "execute_result",
          "data": {
            "text/plain": [
              "MannwhitneyuResult(statistic=8.0, pvalue=0.6285714285714286)"
            ]
          },
          "metadata": {},
          "execution_count": 9
        }
      ]
    },
    {
      "cell_type": "markdown",
      "source": [
        "Вывод: Смотрим в пользу нулевой гипотезы."
      ],
      "metadata": {
        "id": "w63PYqN0XW3k"
      }
    },
    {
      "cell_type": "markdown",
      "source": [
        "**Задача 2.** Исследовалось влияние препарата на уровень давления пациентов. Сначала измерялось давление до приема препарата, потом через 10 минут и через 30 минут. Есть ли статистически значимые различия?\n",
        "\n",
        "1е измерение до приема препарата: 150, 160, 165, 145, 155\n",
        "\n",
        "2е измерение через 10 минут: 140, 155, 150,  130, 135\n",
        "\n",
        "3е измерение через 30 минут: 130, 130, 120, 130, 125"
      ],
      "metadata": {
        "id": "UqVierFPXid3"
      }
    },
    {
      "cell_type": "markdown",
      "source": [
        "Критерий Фридмана:\n",
        "\n",
        "alpha = 0.05"
      ],
      "metadata": {
        "id": "oBac3FC2YHiL"
      }
    },
    {
      "cell_type": "code",
      "source": [
        "measuring_1 = ([150, 160, 165, 145, 155])\n",
        "measuring_2 = ([140, 155, 150, 130, 135])\n",
        "measuring_3 = ([130, 130, 120, 130, 125])\n",
        "\n",
        "stats.friedmanchisquare(measuring_1, measuring_2, measuring_3)"
      ],
      "metadata": {
        "colab": {
          "base_uri": "https://localhost:8080/"
        },
        "id": "6wfaJhW9aDTw",
        "outputId": "60d89cdc-8514-4f14-9765-bc8b3a64df1a"
      },
      "execution_count": 8,
      "outputs": [
        {
          "output_type": "execute_result",
          "data": {
            "text/plain": [
              "FriedmanchisquareResult(statistic=9.578947368421062, pvalue=0.00831683351100441)"
            ]
          },
          "metadata": {},
          "execution_count": 8
        }
      ]
    },
    {
      "cell_type": "markdown",
      "source": [
        "Вывод: Статистические различия есть."
      ],
      "metadata": {
        "id": "sdBe3yf-aXkI"
      }
    },
    {
      "cell_type": "markdown",
      "source": [
        "**Задача 3.** Сравните 1 и 2 е измерения, предполагая, что 3го измерения через 30 минут не было."
      ],
      "metadata": {
        "id": "9krR2KBpaeuu"
      }
    },
    {
      "cell_type": "markdown",
      "source": [
        "Критерий Уилкоксона:"
      ],
      "metadata": {
        "id": "P5QkpV78a0kv"
      }
    },
    {
      "cell_type": "code",
      "source": [
        "stats.wilcoxon(measuring_1, measuring_2)"
      ],
      "metadata": {
        "colab": {
          "base_uri": "https://localhost:8080/"
        },
        "id": "Yty9JiL2a2kd",
        "outputId": "90ff7aad-39c0-406a-9ef7-f112dcc46e4b"
      },
      "execution_count": 7,
      "outputs": [
        {
          "output_type": "execute_result",
          "data": {
            "text/plain": [
              "WilcoxonResult(statistic=0.0, pvalue=0.0625)"
            ]
          },
          "metadata": {},
          "execution_count": 7
        }
      ]
    },
    {
      "cell_type": "markdown",
      "source": [
        "Вывод: Статистических различий нет (pvalue = 0.0625 > alpha = 0.05)"
      ],
      "metadata": {
        "id": "2QRubEiscXfg"
      }
    },
    {
      "cell_type": "markdown",
      "source": [
        "**Задача 4.** Даны 3 группы  учеников плавания.\n",
        "\n",
        "В 1 группе время на дистанцию 50 м составляют:\n",
        "56, 60, 62, 55, 71, 67, 59, 58, 64, 67\n",
        "\n",
        "Вторая группа : 57, 58, 69, 48, 72, 70, 68, 71, 50, 53\n",
        "\n",
        "Третья группа: 57, 67, 49, 48, 47, 55, 66, 51, 54\n",
        "\n",
        "Проверить, есть ли различия между группами"
      ],
      "metadata": {
        "id": "HvEAOx42c97L"
      }
    },
    {
      "cell_type": "markdown",
      "source": [
        "Критерий Крускала – Уоллиса:"
      ],
      "metadata": {
        "id": "iNvu-OTXdWyJ"
      }
    },
    {
      "cell_type": "code",
      "source": [
        "gr_1 = ([56, 60, 62, 55, 71, 67, 59, 58, 64, 67])\n",
        "gr_2 = ([57, 58, 69, 48, 72, 70, 68, 71, 50, 53])\n",
        "gr_3 = ([57, 67, 49, 48, 47, 55, 66, 51, 54])\n",
        "stats.kruskal(gr_1, gr_2, gr_3)"
      ],
      "metadata": {
        "colab": {
          "base_uri": "https://localhost:8080/"
        },
        "id": "ClYELUz3dNvF",
        "outputId": "33b24191-37e6-4619-e883-a0fc4a42c06e"
      },
      "execution_count": 6,
      "outputs": [
        {
          "output_type": "execute_result",
          "data": {
            "text/plain": [
              "KruskalResult(statistic=5.465564058257224, pvalue=0.0650380998590494)"
            ]
          },
          "metadata": {},
          "execution_count": 6
        }
      ]
    },
    {
      "cell_type": "markdown",
      "source": [
        "Вывод: Статистических различий нет (pvalue = 0.065 > alpha = 0.05)"
      ],
      "metadata": {
        "id": "MDzBcVxSeE5i"
      }
    },
    {
      "cell_type": "markdown",
      "source": [
        "**Задача 5.** Заявляется, что партия изготавливается со средним арифметическим 2,5 см. Проверить данную гипотезу, если известно, что размеры изделий подчинены нормальному закону распределения. Объем выборки 10, уровень статистической значимости 5%\n",
        "2.51, 2.35, 2.74, 2.56, 2.40, 2.36, 2.65, 2.7, 2.67, 2.34"
      ],
      "metadata": {
        "id": "UsFm-QqFeYtU"
      }
    },
    {
      "cell_type": "code",
      "source": [
        "\n",
        "x = np.array([2.51, 2.35, 2.74, 2.56, 2.40, 2.36, 2.65, 2.7, 2.67, 2.34])\n",
        "mu = 2.5\n",
        "\n",
        "def t_critery(x, mu):\n",
        "    t = (np.mean(x) - mu) / np.std(x, ddof=1) * np.sqrt(len(x))\n",
        "    t_table = stats.t.ppf(0.975, (len(x) - 1))\n",
        "    return \"Вывод: Детали из выборки принадлежат партии\" if t_table > t else \"Вывод:Детали из выборки не из этой партии\"\n",
        "\n",
        "\n",
        "t_critery(x, mu)"
      ],
      "metadata": {
        "id": "mKyO2K-Te7pp"
      },
      "execution_count": null,
      "outputs": []
    },
    {
      "cell_type": "markdown",
      "source": [
        "Вывод:   Детали из выборки принадлежат партии"
      ],
      "metadata": {
        "id": "si0BygOUgKHR"
      }
    }
  ]
}